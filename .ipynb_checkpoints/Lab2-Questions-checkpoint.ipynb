{
 "cells": [
  {
   "cell_type": "markdown",
   "id": "582fd51e",
   "metadata": {},
   "source": [
    "# Lab 2: numpy\n",
    "\n",
    "#### Practice Exercise 1\n",
    "\n",
    "Create the following NumPy arrays: \n",
    "1. A 1-D array called zeros having 10 elements and all the elements are set to zero. \n",
    "2. A 1-D array called vowels having the elements ‘a’, ‘e’, ‘i’, ‘o’ and ‘u’. \n",
    "3. A 2-D array called ones having 2 rows and 5 columns and all the elements are set to 1 and dtype as int. \n",
    "4. Use nested Python lists to create a 2-D array called myarray1 having 3 rows and 3 columns and store the following data: 2.7,  0,  -2,  3.4,  10.6,  0,  -19 99.9 13 \n",
    "5. A 2-D array called myarray2 using arange() having 3 rows and 5 columns with start value = 4, step size 4 and dtype as float\n"
   ]
  },
  {
   "cell_type": "code",
   "execution_count": 44,
   "id": "9195d139",
   "metadata": {},
   "outputs": [
    {
     "name": "stdout",
     "output_type": "stream",
     "text": [
      "Q1: [0 0 0 0 0 0 0 0 0 0] \n",
      " \n",
      " Q2: ['a' 'e' 'i' 'o' 'u'] \n",
      " \n",
      " Q3: [[1 1 1 1 1]\n",
      " [1 1 1 1 1]] \n",
      " \n",
      " Q4: [[  2.7   0.   -2. ]\n",
      " [  3.4  10.6   0. ]\n",
      " [-19.   99.9  13. ]] \n",
      " \n",
      " Q5: [[ 4.  8. 12. 16. 20.]\n",
      " [24. 28. 32. 36. 40.]\n",
      " [44. 48. 52. 56. 60.]]\n"
     ]
    }
   ],
   "source": [
    "# Write your answer here\n",
    "import numpy as np \n",
    "zeros = np.zeros(10, dtype= int)\n",
    "vowels = np.array(['a', 'e', 'i', 'o' ,'u'])\n",
    "ones = np.ones((2,5), dtype= int)\n",
    "myarray1 = np.array([\n",
    "    [2.7, 0, -2],\n",
    "    [3.4, 10.6, 0],\n",
    "    [-19, 99.9, 13]\n",
    "])\n",
    "myarray2 = np.arange(4, 4+15*4 ,4, dtype=float).reshape(3,5)\n",
    "\n",
    "print(\"Q1:\", zeros,\"\\n\", \"\\n\", \"Q2:\", vowels ,\"\\n\", \"\\n\",\"Q3:\", ones,\"\\n\",\"\\n\",\"Q4:\", myarray1,\"\\n\",\"\\n\",\"Q5:\", myarray2 )\n",
    "\n"
   ]
  },
  {
   "cell_type": "markdown",
   "id": "2d3fc3a8",
   "metadata": {},
   "source": [
    "Using the arrays created in Question above, write NumPy commands for the following: \n",
    "1. Find the dimensions, shape, size, data type of the items and itemsize of arrays zeros, vowels, ones, myarray1 and myarray2. \n",
    "2. Reshape the array ones to have all the 10 elements in a single row. \n",
    "3. Display the 2nd and 3rd element of the array vowels. \n",
    "4. Display all elements in the 2nd and 3rd row of the array myarray1. \n",
    "5. Display the elements in the 1st and 2nd column of the array myarray1. \n",
    "6. Display the elements in the 1st column of the 2nd and 3rd row of the array myarray1. \n",
    "7. Reverse the array of vowels."
   ]
  },
  {
   "cell_type": "code",
   "execution_count": 104,
   "id": "fc69c3db",
   "metadata": {},
   "outputs": [
    {
     "name": "stdout",
     "output_type": "stream",
     "text": [
      "Q1:\n",
      "zeros: \n",
      "  dimensions: 1 \n",
      " shape: (10,) \n",
      " size: 10 \n",
      " data type: int32 \n",
      " itemsize: 4 \n",
      "\n",
      "vowels: \n",
      "  dimensions: 1 \n",
      " shape: (5,) \n",
      " size: 5 \n",
      " data type: <U1 \n",
      " itemsize: 4 \n",
      "\n",
      "ones: \n",
      "  dimensions: 2 \n",
      " shape: (2, 5) \n",
      " size: 10 \n",
      " data type: int32 \n",
      " itemsize: 4 \n",
      "\n",
      "myarray1: \n",
      "  dimensions: 2 \n",
      " shape: (3, 3) \n",
      " size: 9 \n",
      " data type: float64 \n",
      " itemsize: 8 \n",
      "\n",
      "myarray2: \n",
      "  dimensions: 2 \n",
      " shape: (3, 5) \n",
      " size: 15 \n",
      " data type: float64 \n",
      " itemsize: 8 \n",
      "\n",
      "Q2: [1 1 1 1 1 1 1 1 1 1]\n",
      "\n",
      " Q3: ['e' 'i']\n",
      "\n",
      " Q4: [[  3.4  10.6   0. ]\n",
      " [-19.   99.9  13. ]]\n",
      "\n",
      " Q5: [[  2.7   0. ]\n",
      " [  3.4  10.6]\n",
      " [-19.   99.9]]\n",
      "\n",
      " Q6: [[  3.4]\n",
      " [-19. ]]\n",
      "\n",
      " Q7: ['u' 'o' 'i' 'e' 'a']\n"
     ]
    }
   ],
   "source": [
    "#Q1\n",
    "print(\"Q1:\")\n",
    "print(\"zeros:\",\"\\n\", \" dimensions:\", zeros.ndim, \"\\n\", \"shape:\", zeros.shape, \"\\n\", \"size:\", zeros.size, \"\\n\", \"data type:\", zeros.dtype, \"\\n\", \"itemsize:\", zeros.itemsize, \"\\n\")\n",
    "print(\"vowels:\",\"\\n\",\" dimensions:\", vowels.ndim, \"\\n\", \"shape:\", vowels.shape, \"\\n\", \"size:\", vowels.size, \"\\n\", \"data type:\", vowels.dtype, \"\\n\", \"itemsize:\", vowels.itemsize, \"\\n\")\n",
    "print(\"ones:\" ,\"\\n\",\" dimensions:\", ones.ndim, \"\\n\", \"shape:\", ones.shape, \"\\n\", \"size:\", ones.size, \"\\n\", \"data type:\", ones.dtype, \"\\n\", \"itemsize:\", ones.itemsize, \"\\n\")\n",
    "print(\"myarray1:\" ,\"\\n\",\" dimensions:\", myarray1.ndim, \"\\n\", \"shape:\", myarray1.shape, \"\\n\", \"size:\", myarray1.size, \"\\n\", \"data type:\", myarray1.dtype, \"\\n\", \"itemsize:\", myarray1.itemsize, \"\\n\")\n",
    "print(\"myarray2:\",\"\\n\",\" dimensions:\", myarray2.ndim, \"\\n\", \"shape:\", myarray2.shape, \"\\n\", \"size:\", myarray2.size, \"\\n\", \"data type:\", myarray2.dtype, \"\\n\", \"itemsize:\", myarray2.itemsize, \"\\n\")\n",
    "\n",
    "#Q2\n",
    "print(\"Q2:\", ones.reshape(10,))\n",
    "\n",
    "#Q3\n",
    "print(\"\\n\",\"Q3:\",vowels[1:3])\n",
    "\n",
    "#Q4\n",
    "print(\"\\n\",\"Q4:\",myarray1[1:3])\n",
    "\n",
    "\n",
    "#Q5\n",
    "print(\"\\n\",\"Q5:\",myarray1[:, :2 ])\n",
    "\n",
    "#Q6\n",
    "print(\"\\n\",\"Q6:\",myarray1[1:4 , 0:1 ])\n",
    "\n",
    "#Q7\n",
    "print(\"\\n\",\"Q7:\",vowels[::-1])\n"
   ]
  },
  {
   "cell_type": "markdown",
   "id": "e1edb3bb",
   "metadata": {},
   "source": [
    "Using the arrays created in Question above, write NumPy commands for the following:\n",
    "1. Divide all elements of array ones by 3. \n",
    "2. Add the arrays myarray1 and myarray2. \n",
    "3. Subtract myarray1 from myarray2 and store the result in a new array. \n",
    "4. Multiply myarray1 and myarray2 elementwise. \n",
    "5. Do the matrix multiplication of myarray1 and myarray2 and store the result in a new array myarray3. \n",
    "6. Divide myarray1 by myarray2. \n",
    "7. Find the cube of all elements of myarray1 and divide the resulting array by 2. \n",
    "8. Find the square root of all elements of myarray2   and divide the resulting array by 2. The result  should be rounded to two places of decimals."
   ]
  },
  {
   "cell_type": "code",
   "execution_count": 132,
   "id": "3c933386",
   "metadata": {},
   "outputs": [
    {
     "name": "stdout",
     "output_type": "stream",
     "text": [
      "Q1: [[0.33333333 0.33333333 0.33333333 0.33333333 0.33333333]\n",
      " [0.33333333 0.33333333 0.33333333 0.33333333 0.33333333]]\n",
      "\n",
      " Q2: [[  6.7   8.   10. ]\n",
      " [ 27.4  38.6  32. ]\n",
      " [ 25.  147.9  65. ]]\n",
      "\n",
      " Q3: [[  1.3   8.   14. ]\n",
      " [ 20.6  17.4  32. ]\n",
      " [ 63.  -51.9  39. ]]\n",
      "\n",
      " Q4:  [[  10.8    0.   -24. ]\n",
      " [  81.6  296.8    0. ]\n",
      " [-836.  4795.2  676. ]] \n",
      "\n",
      "\n",
      " Q5:  [[-743.6 4650.   564. ]\n",
      " [-795.2 5092.   608. ]\n",
      " [-846.8 5534.   652. ]\n",
      " [-898.4 5976.   696. ]\n",
      " [-950.  6418.   740. ]] \n",
      "\n",
      "\n",
      " Q6:  [[ 0.675       0.         -0.16666667]\n",
      " [ 0.14166667  0.37857143  0.        ]\n",
      " [-0.43181818  2.08125     0.25      ]] \n",
      "\n",
      "\n",
      " Q7:  [[ 9.841500e+00  0.000000e+00 -4.000000e+00]\n",
      " [ 1.965200e+01  5.955080e+02  0.000000e+00]\n",
      " [-3.429500e+03  4.985015e+05  1.098500e+03]] \n",
      "\n",
      "\n",
      " Q8:  [[1.   1.41 1.73 2.   2.24]\n",
      " [2.45 2.65 2.83 3.   3.16]\n",
      " [3.32 3.46 3.61 3.74 3.87]]\n"
     ]
    }
   ],
   "source": [
    "# Write your answer here\n",
    "#Q1\n",
    "print(\"Q1:\", ones/3 )\n",
    "\n",
    "#Q2\n",
    "print(\"\\n\", \"Q2:\", myarray1 + myarray2[:,:3])\n",
    "\n",
    "#Q3\n",
    "newarray = myarray2[:,:3] - myarray1 \n",
    "print(\"\\n\", \"Q3:\", newarray)\n",
    "\n",
    "#Q4\n",
    "elementwise_mult = myarray1 * myarray2[:,:3]\n",
    "print(\"\\n\", \"Q4: \", elementwise_mult, \"\\n\")\n",
    "\n",
    "#Q5\n",
    "myarray3 = np.dot(myarray2.T, myarray1 )  \n",
    "print(\"\\n\", \"Q5: \", myarray3, \"\\n\")\n",
    "\n",
    "#Q6\n",
    "divided_arrays = myarray1 / myarray2[:,:3]\n",
    "print(\"\\n\", \"Q6: \", divided_arrays, \"\\n\")\n",
    "\n",
    "#Q7\n",
    "print(\"\\n\", \"Q7: \", (myarray1 ** 3) / 2 , \"\\n\")\n",
    "\n",
    "#Q8\n",
    "print(\"\\n\" , \"Q8: \",np.round(np.sqrt(myarray2) / 2,2))\n"
   ]
  },
  {
   "cell_type": "markdown",
   "id": "d8aafc74",
   "metadata": {},
   "source": [
    "Using the arrays created above, write NumPy commands for the following: \n",
    "1. Find the transpose of ones and myarray2. \n",
    "2. Sort the array vowels in reverse. \n",
    "3. Sort the array myarray1 such that it brings the lowest value of the column in the first row and so on."
   ]
  },
  {
   "cell_type": "code",
   "execution_count": 144,
   "id": "573c6506",
   "metadata": {},
   "outputs": [
    {
     "name": "stdout",
     "output_type": "stream",
     "text": [
      "Q1:\n",
      "[[1 1]\n",
      " [1 1]\n",
      " [1 1]\n",
      " [1 1]\n",
      " [1 1]] \n",
      " [[ 4. 24. 44.]\n",
      " [ 8. 28. 48.]\n",
      " [12. 32. 52.]\n",
      " [16. 36. 56.]\n",
      " [20. 40. 60.]]\n",
      "Q1: ['u' 'o' 'i' 'e' 'a'] \n",
      "\n",
      "\n",
      "Sorted myarray1:\n",
      " [[-19.    0.   -2. ]\n",
      " [  2.7  10.6   0. ]\n",
      " [  3.4  99.9  13. ]]\n"
     ]
    }
   ],
   "source": [
    "# Write your answer here\n",
    "#Q1\n",
    "print(\"Q1:\")\n",
    "print( ones.T ,\"\\n\", myarray2.T )\n",
    "print(\"Q1:\", vowels[::-1] ,\"\\n\")\n",
    "\n",
    "\n",
    "sorted_indices = np.argsort(myarray1, axis=0)  \n",
    "sorted_myarray1 = myarray1[sorted_indices, np.arange(myarray1.shape[1])] \n",
    "print(\"\\nSorted myarray1:\\n\", sorted_myarray1)"
   ]
  },
  {
   "cell_type": "markdown",
   "id": "93546856",
   "metadata": {},
   "source": [
    "Create a 2-D array called myarray4 using arange() having 14 rows and 3 columns with start value = -1, step size 0.25 having. Split this array row wise into 3 equal parts and print the result. "
   ]
  },
  {
   "cell_type": "code",
   "execution_count": 180,
   "id": "441dd934",
   "metadata": {},
   "outputs": [
    {
     "data": {
      "text/plain": [
       "[array([[-1.  , -0.75, -0.5 ],\n",
       "        [-0.25,  0.  ,  0.25],\n",
       "        [ 0.5 ,  0.75,  1.  ],\n",
       "        [ 1.25,  1.5 ,  1.75],\n",
       "        [ 2.  ,  2.25,  2.5 ]]),\n",
       " array([[2.75, 3.  , 3.25],\n",
       "        [3.5 , 3.75, 4.  ],\n",
       "        [4.25, 4.5 , 4.75],\n",
       "        [5.  , 5.25, 5.5 ],\n",
       "        [5.75, 6.  , 6.25]]),\n",
       " array([[6.5 , 6.75, 7.  ],\n",
       "        [7.25, 7.5 , 7.75],\n",
       "        [8.  , 8.25, 8.5 ],\n",
       "        [8.75, 9.  , 9.25]])]"
      ]
     },
     "execution_count": 180,
     "metadata": {},
     "output_type": "execute_result"
    }
   ],
   "source": [
    "# Write your answer here\n",
    "\n",
    "myarray4 = np.arange(-1, -1 + 42 * 0.25, 0.25).reshape(14, 3)\n",
    "np.array_split(myarray4, 3)"
   ]
  },
  {
   "cell_type": "markdown",
   "id": "c8cdbaff",
   "metadata": {},
   "source": [
    "Using the myarray4 created in the above questions, write commands for the following: \n",
    "1. Find the sum of all elements. \n",
    "2. Find the sum of all elements row wise\n",
    "3. Find the sum of all elements column wise. \n",
    "4. Find the max of all elements. \n",
    "5. Find the min of all elements in each row. \n",
    "6. Find the mean of all elements in each row. \n",
    "7. Find the standard deviation column wise."
   ]
  },
  {
   "cell_type": "code",
   "execution_count": 185,
   "id": "66af8b55",
   "metadata": {},
   "outputs": [
    {
     "name": "stdout",
     "output_type": "stream",
     "text": [
      "Q1:  173.25 \n",
      "\n",
      "Q2:  [-2.25  0.    2.25  4.5   6.75  9.   11.25 13.5  15.75 18.   20.25 22.5\n",
      " 24.75 27.  ] \n",
      "\n",
      "Q3:  [54.25 57.75 61.25] \n",
      "\n",
      "Q4:  9.25 \n",
      "\n",
      "Q5:  [-1.   -0.25  0.5   1.25  2.    2.75  3.5   4.25  5.    5.75  6.5   7.25\n",
      "  8.    8.75] \n",
      "\n",
      "Q6:  [-0.75  0.    0.75  1.5   2.25  3.    3.75  4.5   5.25  6.    6.75  7.5\n",
      "  8.25  9.  ] \n",
      "\n",
      "Q7:  [3.02334666 3.02334666 3.02334666]\n"
     ]
    }
   ],
   "source": [
    "# Write your answer here\n",
    "\n",
    "print(\"Q1: \", np.sum(myarray4), \"\\n\")\n",
    "print(\"Q2: \", np.sum(myarray4, axis=1), \"\\n\")\n",
    "print(\"Q3: \", np.sum(myarray4, axis=0), \"\\n\")\n",
    "print(\"Q4: \", np.max(myarray4), \"\\n\")\n",
    "print(\"Q5: \", np.min(myarray4, axis=1), \"\\n\")\n",
    "print(\"Q6: \", np.mean(myarray4, axis=1), \"\\n\")\n",
    "print(\"Q7: \", np.std(myarray4, axis=0))\n"
   ]
  },
  {
   "cell_type": "markdown",
   "id": "8d7e1dca",
   "metadata": {},
   "source": [
    "#### Practice Exercise 2\n",
    "Read the coordinates of the capital cities of the world from the country-capital-lat-long-population.csv file. Use NumPy to print the name and coordinates of the capital city closest to the Saudi Arabia capital - Riyadh.\n",
    "\n",
    "Note that:\n",
    "\n",
    "1. The Country Name for Saudi Arabia is given as Saudi Arabia in the data.\n",
    "2. The ‘closeness’ of capital cities from the Saudi Arabia capital is based on the Euclidean distance of their coordinates to those of the Saudi Arabia capital.\n",
    "\n",
    "\n",
    "Hints:\n",
    "\n",
    "1. Use read_html() from the Pandas library to read the table.\n",
    "2. Use the to_numpy() function of the Pandas DataFrame class to convert a DataFrame to a Numpy array\n",
    "3. Use broadcasting to compute the euclidean distance of capital cities from Riyadh."
   ]
  },
  {
   "cell_type": "code",
   "execution_count": 203,
   "id": "ab6b9725",
   "metadata": {},
   "outputs": [
    {
     "name": "stdout",
     "output_type": "stream",
     "text": [
      "The closest capital city to Riyadh is: Al-Manamah (Manama)\n",
      "Coordinates: Latitude = 26.2154, Longitude = 50.5832\n",
      "Distance: 4.162943306123681\n"
     ]
    }
   ],
   "source": [
    "# Write your answer here\n",
    "import numpy as np\n",
    "import pandas as pd\n",
    "capital_cities = pd.read_csv('C:/Users/Maha/Documents/GitHub/lab-02-Maha182/country-capital-lat-long-population.csv')\n",
    "capital_cities.head()\n",
    "min_distance = float('inf')\n",
    "riyadh_data = capital_cities[capital_cities['Country'] == 'Saudi Arabia']\n",
    "riyadh_coords = df[df['Country'] == 'Saudi Arabia'][['Latitude', 'Longitude']].values[0]\n",
    "riyadh_coords = riyadh_data[['Latitude', 'Longitude']].values[0]\n",
    "\n",
    "riyadh_lat, riyadh_lon = riyadh_coords\n",
    "\n",
    "for index, row in capital_cities.iterrows():\n",
    "    city_lat = row['Latitude']\n",
    "    city_lon = row['Longitude']\n",
    "    \n",
    "    distance = np.sqrt((riyadh_lat - city_lat)**2 + (riyadh_lon - city_lon)**2)\n",
    "    \n",
    "    if distance < min_distance and row['Country'] != 'Saudi Arabia':  \n",
    "        min_distance = distance\n",
    "        closest_city = row\n",
    "\n",
    "print(f\"The closest capital city to Riyadh is: {closest_city['Capital City']}\")\n",
    "print(f\"Coordinates: Latitude = {closest_city['Latitude']}, Longitude = {closest_city['Longitude']}\")\n",
    "print(f\"Distance: {min_distance}\")"
   ]
  },
  {
   "cell_type": "markdown",
   "id": "1fdbec05",
   "metadata": {},
   "source": [
    "#### Practical Exercise 2\n",
    "\n",
    "Use NumPy to:\n",
    "\n",
    "1. Print the names of the countries of the top 10 capital cities closest to the US capital - Washington DC.\n",
    "\n",
    "2. Create and print a NumPy array containing the coordinates of the top 10 cities."
   ]
  },
  {
   "cell_type": "code",
   "execution_count": 193,
   "id": "45046a85",
   "metadata": {},
   "outputs": [
    {
     "data": {
      "text/plain": [
       "Capital City          Ar-Riyadh (Riyadh)\n",
       "Latitude                         24.6905\n",
       "Longitude                        46.7096\n",
       "Distance_to_Riyadh                   0.0\n",
       "Name: 182, dtype: object"
      ]
     },
     "execution_count": 193,
     "metadata": {},
     "output_type": "execute_result"
    }
   ],
   "source": [
    "# Write your answer here\n",
    "\n"
   ]
  },
  {
   "cell_type": "code",
   "execution_count": null,
   "id": "a47bcf68-68db-4a7c-a13d-c6e84d6cd7b7",
   "metadata": {},
   "outputs": [],
   "source": []
  }
 ],
 "metadata": {
  "kernelspec": {
   "display_name": "Python 3 (ipykernel)",
   "language": "python",
   "name": "python3"
  },
  "language_info": {
   "codemirror_mode": {
    "name": "ipython",
    "version": 3
   },
   "file_extension": ".py",
   "mimetype": "text/x-python",
   "name": "python",
   "nbconvert_exporter": "python",
   "pygments_lexer": "ipython3",
   "version": "3.12.4"
  }
 },
 "nbformat": 4,
 "nbformat_minor": 5
}
